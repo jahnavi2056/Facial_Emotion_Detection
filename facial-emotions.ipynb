{
 "cells": [
  {
   "cell_type": "code",
   "execution_count": 1,
   "id": "88d7d2da",
   "metadata": {
    "_cell_guid": "b1076dfc-b9ad-4769-8c92-a6c4dae69d19",
    "_uuid": "8f2839f25d086af736a60e9eeb907d3b93b6e0e5",
    "execution": {
     "iopub.execute_input": "2024-12-01T06:09:58.130347Z",
     "iopub.status.busy": "2024-12-01T06:09:58.129964Z",
     "iopub.status.idle": "2024-12-01T06:09:59.037801Z",
     "shell.execute_reply": "2024-12-01T06:09:59.036805Z"
    },
    "papermill": {
     "duration": 0.918338,
     "end_time": "2024-12-01T06:09:59.039918",
     "exception": false,
     "start_time": "2024-12-01T06:09:58.121580",
     "status": "completed"
    },
    "tags": []
   },
   "outputs": [],
   "source": [
    "import numpy as np\n",
    "import pandas as pd\n",
    "import cv2"
   ]
  },
  {
   "cell_type": "code",
   "execution_count": 2,
   "id": "4bb1ba18",
   "metadata": {
    "execution": {
     "iopub.execute_input": "2024-12-01T06:09:59.055647Z",
     "iopub.status.busy": "2024-12-01T06:09:59.055230Z",
     "iopub.status.idle": "2024-12-01T06:10:04.716840Z",
     "shell.execute_reply": "2024-12-01T06:10:04.716150Z"
    },
    "papermill": {
     "duration": 5.671293,
     "end_time": "2024-12-01T06:10:04.718965",
     "exception": false,
     "start_time": "2024-12-01T06:09:59.047672",
     "status": "completed"
    },
    "tags": []
   },
   "outputs": [],
   "source": [
    "df=pd.read_csv('../input/facial-expression/fer2013.csv')"
   ]
  },
  {
   "cell_type": "code",
   "execution_count": 3,
   "id": "bbc81850",
   "metadata": {
    "execution": {
     "iopub.execute_input": "2024-12-01T06:10:04.733695Z",
     "iopub.status.busy": "2024-12-01T06:10:04.732999Z",
     "iopub.status.idle": "2024-12-01T06:10:04.748618Z",
     "shell.execute_reply": "2024-12-01T06:10:04.747777Z"
    },
    "papermill": {
     "duration": 0.024894,
     "end_time": "2024-12-01T06:10:04.750399",
     "exception": false,
     "start_time": "2024-12-01T06:10:04.725505",
     "status": "completed"
    },
    "tags": []
   },
   "outputs": [
    {
     "data": {
      "text/html": [
       "<div>\n",
       "<style scoped>\n",
       "    .dataframe tbody tr th:only-of-type {\n",
       "        vertical-align: middle;\n",
       "    }\n",
       "\n",
       "    .dataframe tbody tr th {\n",
       "        vertical-align: top;\n",
       "    }\n",
       "\n",
       "    .dataframe thead th {\n",
       "        text-align: right;\n",
       "    }\n",
       "</style>\n",
       "<table border=\"1\" class=\"dataframe\">\n",
       "  <thead>\n",
       "    <tr style=\"text-align: right;\">\n",
       "      <th></th>\n",
       "      <th>emotion</th>\n",
       "      <th>pixels</th>\n",
       "      <th>Usage</th>\n",
       "    </tr>\n",
       "  </thead>\n",
       "  <tbody>\n",
       "    <tr>\n",
       "      <th>0</th>\n",
       "      <td>0</td>\n",
       "      <td>70 80 82 72 58 58 60 63 54 58 60 48 89 115 121...</td>\n",
       "      <td>Training</td>\n",
       "    </tr>\n",
       "    <tr>\n",
       "      <th>1</th>\n",
       "      <td>0</td>\n",
       "      <td>151 150 147 155 148 133 111 140 170 174 182 15...</td>\n",
       "      <td>Training</td>\n",
       "    </tr>\n",
       "    <tr>\n",
       "      <th>2</th>\n",
       "      <td>2</td>\n",
       "      <td>231 212 156 164 174 138 161 173 182 200 106 38...</td>\n",
       "      <td>Training</td>\n",
       "    </tr>\n",
       "    <tr>\n",
       "      <th>3</th>\n",
       "      <td>4</td>\n",
       "      <td>24 32 36 30 32 23 19 20 30 41 21 22 32 34 21 1...</td>\n",
       "      <td>Training</td>\n",
       "    </tr>\n",
       "    <tr>\n",
       "      <th>4</th>\n",
       "      <td>6</td>\n",
       "      <td>4 0 0 0 0 0 0 0 0 0 0 0 3 15 23 28 48 50 58 84...</td>\n",
       "      <td>Training</td>\n",
       "    </tr>\n",
       "  </tbody>\n",
       "</table>\n",
       "</div>"
      ],
      "text/plain": [
       "   emotion                                             pixels     Usage\n",
       "0        0  70 80 82 72 58 58 60 63 54 58 60 48 89 115 121...  Training\n",
       "1        0  151 150 147 155 148 133 111 140 170 174 182 15...  Training\n",
       "2        2  231 212 156 164 174 138 161 173 182 200 106 38...  Training\n",
       "3        4  24 32 36 30 32 23 19 20 30 41 21 22 32 34 21 1...  Training\n",
       "4        6  4 0 0 0 0 0 0 0 0 0 0 0 3 15 23 28 48 50 58 84...  Training"
      ]
     },
     "execution_count": 3,
     "metadata": {},
     "output_type": "execute_result"
    }
   ],
   "source": [
    "df.head()"
   ]
  },
  {
   "cell_type": "code",
   "execution_count": 4,
   "id": "2e95011c",
   "metadata": {
    "execution": {
     "iopub.execute_input": "2024-12-01T06:10:04.765438Z",
     "iopub.status.busy": "2024-12-01T06:10:04.764722Z",
     "iopub.status.idle": "2024-12-01T06:10:04.770757Z",
     "shell.execute_reply": "2024-12-01T06:10:04.769929Z"
    },
    "papermill": {
     "duration": 0.014912,
     "end_time": "2024-12-01T06:10:04.772312",
     "exception": false,
     "start_time": "2024-12-01T06:10:04.757400",
     "status": "completed"
    },
    "tags": []
   },
   "outputs": [
    {
     "data": {
      "text/plain": [
       "2304"
      ]
     },
     "execution_count": 4,
     "metadata": {},
     "output_type": "execute_result"
    }
   ],
   "source": [
    "len(df.iloc[0]['pixels'].split())\n",
    "# 48 * 48"
   ]
  },
  {
   "cell_type": "code",
   "execution_count": 5,
   "id": "cc712488",
   "metadata": {
    "execution": {
     "iopub.execute_input": "2024-12-01T06:10:04.786467Z",
     "iopub.status.busy": "2024-12-01T06:10:04.786168Z",
     "iopub.status.idle": "2024-12-01T06:10:04.790069Z",
     "shell.execute_reply": "2024-12-01T06:10:04.789265Z"
    },
    "papermill": {
     "duration": 0.012901,
     "end_time": "2024-12-01T06:10:04.791730",
     "exception": false,
     "start_time": "2024-12-01T06:10:04.778829",
     "status": "completed"
    },
    "tags": []
   },
   "outputs": [],
   "source": [
    "label_map =['Anger','Neutral','Fear','Happy','Sad','Surprise']"
   ]
  },
  {
   "cell_type": "code",
   "execution_count": 6,
   "id": "cb68cdb0",
   "metadata": {
    "execution": {
     "iopub.execute_input": "2024-12-01T06:10:04.806175Z",
     "iopub.status.busy": "2024-12-01T06:10:04.805807Z",
     "iopub.status.idle": "2024-12-01T06:10:04.809751Z",
     "shell.execute_reply": "2024-12-01T06:10:04.809020Z"
    },
    "papermill": {
     "duration": 0.013013,
     "end_time": "2024-12-01T06:10:04.811388",
     "exception": false,
     "start_time": "2024-12-01T06:10:04.798375",
     "status": "completed"
    },
    "tags": []
   },
   "outputs": [],
   "source": [
    "import matplotlib.pyplot as plt"
   ]
  },
  {
   "cell_type": "code",
   "execution_count": 7,
   "id": "32a6c44f",
   "metadata": {
    "execution": {
     "iopub.execute_input": "2024-12-01T06:10:04.825777Z",
     "iopub.status.busy": "2024-12-01T06:10:04.825440Z",
     "iopub.status.idle": "2024-12-01T06:10:04.829721Z",
     "shell.execute_reply": "2024-12-01T06:10:04.828999Z"
    },
    "papermill": {
     "duration": 0.013345,
     "end_time": "2024-12-01T06:10:04.831272",
     "exception": false,
     "start_time": "2024-12-01T06:10:04.817927",
     "status": "completed"
    },
    "tags": []
   },
   "outputs": [],
   "source": [
    "img = df.iloc[0]['pixels'].split()"
   ]
  },
  {
   "cell_type": "code",
   "execution_count": 8,
   "id": "f75b8af4",
   "metadata": {
    "execution": {
     "iopub.execute_input": "2024-12-01T06:10:04.845362Z",
     "iopub.status.busy": "2024-12-01T06:10:04.845001Z",
     "iopub.status.idle": "2024-12-01T06:10:04.849249Z",
     "shell.execute_reply": "2024-12-01T06:10:04.848548Z"
    },
    "papermill": {
     "duration": 0.013332,
     "end_time": "2024-12-01T06:10:04.851089",
     "exception": false,
     "start_time": "2024-12-01T06:10:04.837757",
     "status": "completed"
    },
    "tags": []
   },
   "outputs": [],
   "source": [
    "img =[int(i) for i in img]"
   ]
  },
  {
   "cell_type": "code",
   "execution_count": 9,
   "id": "a13068dd",
   "metadata": {
    "execution": {
     "iopub.execute_input": "2024-12-01T06:10:04.872614Z",
     "iopub.status.busy": "2024-12-01T06:10:04.871676Z",
     "iopub.status.idle": "2024-12-01T06:10:04.878579Z",
     "shell.execute_reply": "2024-12-01T06:10:04.877741Z"
    },
    "papermill": {
     "duration": 0.019035,
     "end_time": "2024-12-01T06:10:04.880882",
     "exception": false,
     "start_time": "2024-12-01T06:10:04.861847",
     "status": "completed"
    },
    "tags": []
   },
   "outputs": [
    {
     "data": {
      "text/plain": [
       "int"
      ]
     },
     "execution_count": 9,
     "metadata": {},
     "output_type": "execute_result"
    }
   ],
   "source": [
    "type(img[0])"
   ]
  },
  {
   "cell_type": "code",
   "execution_count": 10,
   "id": "956c7f0d",
   "metadata": {
    "execution": {
     "iopub.execute_input": "2024-12-01T06:10:04.896851Z",
     "iopub.status.busy": "2024-12-01T06:10:04.896304Z",
     "iopub.status.idle": "2024-12-01T06:10:04.901611Z",
     "shell.execute_reply": "2024-12-01T06:10:04.900829Z"
    },
    "papermill": {
     "duration": 0.01473,
     "end_time": "2024-12-01T06:10:04.903331",
     "exception": false,
     "start_time": "2024-12-01T06:10:04.888601",
     "status": "completed"
    },
    "tags": []
   },
   "outputs": [
    {
     "data": {
      "text/plain": [
       "2304"
      ]
     },
     "execution_count": 10,
     "metadata": {},
     "output_type": "execute_result"
    }
   ],
   "source": [
    "len(img)"
   ]
  },
  {
   "cell_type": "code",
   "execution_count": 11,
   "id": "7bd1c7d5",
   "metadata": {
    "execution": {
     "iopub.execute_input": "2024-12-01T06:10:04.918294Z",
     "iopub.status.busy": "2024-12-01T06:10:04.917677Z",
     "iopub.status.idle": "2024-12-01T06:10:04.921796Z",
     "shell.execute_reply": "2024-12-01T06:10:04.920957Z"
    },
    "papermill": {
     "duration": 0.013446,
     "end_time": "2024-12-01T06:10:04.923673",
     "exception": false,
     "start_time": "2024-12-01T06:10:04.910227",
     "status": "completed"
    },
    "tags": []
   },
   "outputs": [],
   "source": [
    "img = np.array(img)"
   ]
  },
  {
   "cell_type": "code",
   "execution_count": 12,
   "id": "703cf2db",
   "metadata": {
    "execution": {
     "iopub.execute_input": "2024-12-01T06:10:04.938657Z",
     "iopub.status.busy": "2024-12-01T06:10:04.937903Z",
     "iopub.status.idle": "2024-12-01T06:10:04.941878Z",
     "shell.execute_reply": "2024-12-01T06:10:04.941092Z"
    },
    "papermill": {
     "duration": 0.013375,
     "end_time": "2024-12-01T06:10:04.943591",
     "exception": false,
     "start_time": "2024-12-01T06:10:04.930216",
     "status": "completed"
    },
    "tags": []
   },
   "outputs": [],
   "source": [
    "img=img.reshape(48,48)"
   ]
  },
  {
   "cell_type": "code",
   "execution_count": 13,
   "id": "9a16e75c",
   "metadata": {
    "execution": {
     "iopub.execute_input": "2024-12-01T06:10:04.958471Z",
     "iopub.status.busy": "2024-12-01T06:10:04.958154Z",
     "iopub.status.idle": "2024-12-01T06:10:04.963523Z",
     "shell.execute_reply": "2024-12-01T06:10:04.962684Z"
    },
    "papermill": {
     "duration": 0.01479,
     "end_time": "2024-12-01T06:10:04.965191",
     "exception": false,
     "start_time": "2024-12-01T06:10:04.950401",
     "status": "completed"
    },
    "tags": []
   },
   "outputs": [
    {
     "data": {
      "text/plain": [
       "(48, 48)"
      ]
     },
     "execution_count": 13,
     "metadata": {},
     "output_type": "execute_result"
    }
   ],
   "source": [
    "img.shape"
   ]
  },
  {
   "cell_type": "code",
   "execution_count": 14,
   "id": "d7de0177",
   "metadata": {
    "execution": {
     "iopub.execute_input": "2024-12-01T06:10:04.979673Z",
     "iopub.status.busy": "2024-12-01T06:10:04.979398Z",
     "iopub.status.idle": "2024-12-01T06:10:05.245894Z",
     "shell.execute_reply": "2024-12-01T06:10:05.244890Z"
    },
    "papermill": {
     "duration": 0.276075,
     "end_time": "2024-12-01T06:10:05.247803",
     "exception": false,
     "start_time": "2024-12-01T06:10:04.971728",
     "status": "completed"
    },
    "tags": []
   },
   "outputs": [
    {
     "data": {
      "text/plain": [
       "Text(0.5, 0, '0')"
      ]
     },
     "execution_count": 14,
     "metadata": {},
     "output_type": "execute_result"
    },
    {
     "data": {
      "image/png": "[encoded data removed]",
      "text/plain": [
       "<Figure size 640x480 with 1 Axes>"
      ]
     },
     "metadata": {},
     "output_type": "display_data"
    }
   ],
   "source": [
    "plt.imshow(img,cmap='gray')\n",
    "plt.xlabel(df.iloc[0]['emotion'])"
   ]
  },
  {
   "cell_type": "code",
   "execution_count": 15,
   "id": "d7cc97c8",
   "metadata": {
    "execution": {
     "iopub.execute_input": "2024-12-01T06:10:05.263673Z",
     "iopub.status.busy": "2024-12-01T06:10:05.263356Z",
     "iopub.status.idle": "2024-12-01T06:10:05.268007Z",
     "shell.execute_reply": "2024-12-01T06:10:05.267021Z"
    },
    "papermill": {
     "duration": 0.014639,
     "end_time": "2024-12-01T06:10:05.269927",
     "exception": false,
     "start_time": "2024-12-01T06:10:05.255288",
     "status": "completed"
    },
    "tags": []
   },
   "outputs": [],
   "source": [
    "x=[]\n",
    "y=[]\n"
   ]
  },
  {
   "cell_type": "code",
   "execution_count": 16,
   "id": "0ec88393",
   "metadata": {
    "execution": {
     "iopub.execute_input": "2024-12-01T06:10:05.286211Z",
     "iopub.status.busy": "2024-12-01T06:10:05.285576Z",
     "iopub.status.idle": "2024-12-01T06:10:05.296753Z",
     "shell.execute_reply": "2024-12-01T06:10:05.296093Z"
    },
    "papermill": {
     "duration": 0.021002,
     "end_time": "2024-12-01T06:10:05.298579",
     "exception": false,
     "start_time": "2024-12-01T06:10:05.277577",
     "status": "completed"
    },
    "tags": []
   },
   "outputs": [],
   "source": [
    "def getData(path):\n",
    "    anger = 0\n",
    "    fear = 0\n",
    "    sad = 0\n",
    "    happy = 0\n",
    "    surprise = 0\n",
    "    neutral = 0\n",
    "    df = pd.read_csv(path)\n",
    "    \n",
    "    X = []\n",
    "    y = []    \n",
    "    \n",
    "    for i in range(len(df)):\n",
    "        if df.iloc[i]['emotion'] != 1:\n",
    "            if df.iloc[i]['emotion'] == 0:\n",
    "                if anger <= 4000:            \n",
    "                    y.append(df.iloc[i]['emotion'])\n",
    "                    im = df.iloc[i]['pixels']\n",
    "                    im = [int(x) for x in im.split()]\n",
    "                    X.append(im)\n",
    "                    anger += 1\n",
    "                else:\n",
    "                    pass\n",
    "                \n",
    "            if df.iloc[i]['emotion'] == 2:\n",
    "                if fear <= 4000:            \n",
    "                    y.append(df.iloc[i]['emotion'])\n",
    "                    im = df.iloc[i]['pixels']\n",
    "                    im = [int(x) for x in im.split()]\n",
    "                    X.append(im)\n",
    "                    fear += 1\n",
    "                else:\n",
    "                    pass\n",
    "                \n",
    "            if df.iloc[i]['emotion'] == 3:\n",
    "                if happy <= 4000:            \n",
    "                    y.append(df.iloc[i]['emotion'])\n",
    "                    im = df.iloc[i]['pixels']\n",
    "                    im = [int(x) for x in im.split()]\n",
    "                    X.append(im)\n",
    "                    happy += 1\n",
    "                else:\n",
    "                    pass\n",
    "                \n",
    "            if df.iloc[i]['emotion'] == 4:\n",
    "                if sad <= 4000:            \n",
    "                    y.append(df.iloc[i]['emotion'])\n",
    "                    im = df.iloc[i]['pixels']\n",
    "                    im = [int(x) for x in im.split()]\n",
    "                    X.append(im)\n",
    "                    sad += 1\n",
    "                else:\n",
    "                    pass\n",
    "                \n",
    "            if df.iloc[i]['emotion'] == 5:\n",
    "                if surprise <= 4000:            \n",
    "                    y.append(df.iloc[i]['emotion'])\n",
    "                    im = df.iloc[i]['pixels']\n",
    "                    im = [int(x) for x in im.split()]\n",
    "                    X.append(im)\n",
    "                    surprise += 1\n",
    "                else:\n",
    "                    pass\n",
    "                \n",
    "            if df.iloc[i]['emotion'] == 6:\n",
    "                if neutral <= 4000:            \n",
    "                    y.append(df.iloc[i]['emotion'])\n",
    "                    im = df.iloc[i]['pixels']\n",
    "                    im = [int(x) for x in im.split()]\n",
    "                    X.append(im)\n",
    "                    neutral += 1\n",
    "                else:\n",
    "                    pass\n",
    "\n",
    "            \n",
    "            \n",
    "    return X, y"
   ]
  },
  {
   "cell_type": "code",
   "execution_count": 17,
   "id": "8ed6e680",
   "metadata": {
    "execution": {
     "iopub.execute_input": "2024-12-01T06:10:05.314289Z",
     "iopub.status.busy": "2024-12-01T06:10:05.313939Z",
     "iopub.status.idle": "2024-12-01T06:10:28.398775Z",
     "shell.execute_reply": "2024-12-01T06:10:28.398090Z"
    },
    "papermill": {
     "duration": 23.094731,
     "end_time": "2024-12-01T06:10:28.400835",
     "exception": false,
     "start_time": "2024-12-01T06:10:05.306104",
     "status": "completed"
    },
    "tags": []
   },
   "outputs": [],
   "source": [
    "X, y = getData('../input/facial-expression/fer2013.csv')"
   ]
  },
  {
   "cell_type": "code",
   "execution_count": 18,
   "id": "3c2f0a88",
   "metadata": {
    "execution": {
     "iopub.execute_input": "2024-12-01T06:10:28.416773Z",
     "iopub.status.busy": "2024-12-01T06:10:28.416436Z",
     "iopub.status.idle": "2024-12-01T06:10:28.425610Z",
     "shell.execute_reply": "2024-12-01T06:10:28.424829Z"
    },
    "papermill": {
     "duration": 0.019168,
     "end_time": "2024-12-01T06:10:28.427499",
     "exception": false,
     "start_time": "2024-12-01T06:10:28.408331",
     "status": "completed"
    },
    "tags": []
   },
   "outputs": [
    {
     "data": {
      "text/plain": [
       "(array([0, 2, 3, 4, 5, 6]), array([4001, 4001, 4001, 4001, 4001, 4001]))"
      ]
     },
     "execution_count": 18,
     "metadata": {},
     "output_type": "execute_result"
    }
   ],
   "source": [
    "np.unique(y, return_counts=True)\n"
   ]
  },
  {
   "cell_type": "code",
   "execution_count": 19,
   "id": "afd3bcca",
   "metadata": {
    "execution": {
     "iopub.execute_input": "2024-12-01T06:10:28.444307Z",
     "iopub.status.busy": "2024-12-01T06:10:28.443606Z",
     "iopub.status.idle": "2024-12-01T06:10:31.216327Z",
     "shell.execute_reply": "2024-12-01T06:10:31.215347Z"
    },
    "papermill": {
     "duration": 2.783815,
     "end_time": "2024-12-01T06:10:31.218443",
     "exception": false,
     "start_time": "2024-12-01T06:10:28.434628",
     "status": "completed"
    },
    "tags": []
   },
   "outputs": [],
   "source": [
    "X = np.array(X)/255.0\n",
    "y = np.array(y)"
   ]
  },
  {
   "cell_type": "code",
   "execution_count": 20,
   "id": "9b1d6c14",
   "metadata": {
    "execution": {
     "iopub.execute_input": "2024-12-01T06:10:31.234553Z",
     "iopub.status.busy": "2024-12-01T06:10:31.233734Z",
     "iopub.status.idle": "2024-12-01T06:10:31.239275Z",
     "shell.execute_reply": "2024-12-01T06:10:31.238503Z"
    },
    "papermill": {
     "duration": 0.015321,
     "end_time": "2024-12-01T06:10:31.240940",
     "exception": false,
     "start_time": "2024-12-01T06:10:31.225619",
     "status": "completed"
    },
    "tags": []
   },
   "outputs": [
    {
     "data": {
      "text/plain": [
       "((24006, 2304), (24006,))"
      ]
     },
     "execution_count": 20,
     "metadata": {},
     "output_type": "execute_result"
    }
   ],
   "source": [
    "X.shape, y.shape"
   ]
  },
  {
   "cell_type": "code",
   "execution_count": 21,
   "id": "a4015e41",
   "metadata": {
    "execution": {
     "iopub.execute_input": "2024-12-01T06:10:31.256702Z",
     "iopub.status.busy": "2024-12-01T06:10:31.256393Z",
     "iopub.status.idle": "2024-12-01T06:10:31.264873Z",
     "shell.execute_reply": "2024-12-01T06:10:31.264195Z"
    },
    "papermill": {
     "duration": 0.018575,
     "end_time": "2024-12-01T06:10:31.266765",
     "exception": false,
     "start_time": "2024-12-01T06:10:31.248190",
     "status": "completed"
    },
    "tags": []
   },
   "outputs": [],
   "source": [
    "y_o = []\n",
    "for i in y:\n",
    "    if i != 6:\n",
    "        y_o.append(i)\n",
    "        \n",
    "    else:\n",
    "        y_o.append(1)"
   ]
  },
  {
   "cell_type": "code",
   "execution_count": 22,
   "id": "e1dbd02d",
   "metadata": {
    "execution": {
     "iopub.execute_input": "2024-12-01T06:10:31.282373Z",
     "iopub.status.busy": "2024-12-01T06:10:31.282053Z",
     "iopub.status.idle": "2024-12-01T06:10:31.289178Z",
     "shell.execute_reply": "2024-12-01T06:10:31.288352Z"
    },
    "papermill": {
     "duration": 0.016848,
     "end_time": "2024-12-01T06:10:31.290852",
     "exception": false,
     "start_time": "2024-12-01T06:10:31.274004",
     "status": "completed"
    },
    "tags": []
   },
   "outputs": [
    {
     "data": {
      "text/plain": [
       "(array([0, 1, 2, 3, 4, 5]), array([4001, 4001, 4001, 4001, 4001, 4001]))"
      ]
     },
     "execution_count": 22,
     "metadata": {},
     "output_type": "execute_result"
    }
   ],
   "source": [
    "np.unique(y_o, return_counts=True)"
   ]
  },
  {
   "cell_type": "code",
   "execution_count": 23,
   "id": "2c8b8d52",
   "metadata": {
    "execution": {
     "iopub.execute_input": "2024-12-01T06:10:31.307414Z",
     "iopub.status.busy": "2024-12-01T06:10:31.306768Z",
     "iopub.status.idle": "2024-12-01T06:10:32.288948Z",
     "shell.execute_reply": "2024-12-01T06:10:32.288082Z"
    },
    "papermill": {
     "duration": 0.992061,
     "end_time": "2024-12-01T06:10:32.290694",
     "exception": false,
     "start_time": "2024-12-01T06:10:31.298633",
     "status": "completed"
    },
    "tags": []
   },
   "outputs": [
    {
     "data": {
      "image/png": "[encoded data removed]",
      "text/plain": [
       "<Figure size 640x480 with 1 Axes>"
      ]
     },
     "metadata": {},
     "output_type": "display_data"
    },
    {
     "data": {
      "image/png": "[encoded data removed]",
      "text/plain": [
       "<Figure size 640x480 with 1 Axes>"
      ]
     },
     "metadata": {},
     "output_type": "display_data"
    },
    {
     "data": {
      "image/png": "[encoded data removed]",
      "text/plain": [
       "<Figure size 640x480 with 1 Axes>"
      ]
     },
     "metadata": {},
     "output_type": "display_data"
    },
    {
     "data": {
      "image/png": "[encoded data removed]",
      "text/plain": [
       "<Figure size 640x480 with 1 Axes>"
      ]
     },
     "metadata": {},
     "output_type": "display_data"
    },
    {
     "data": {
      "image/png": "[encoded data removed]",
      "text/plain": [
       "<Figure size 640x480 with 1 Axes>"
      ]
     },
     "metadata": {},
     "output_type": "display_data"
    }
   ],
   "source": [
    "for i in range(5):\n",
    "    r = np.random.randint((1), 24000, 1)[0]\n",
    "    plt.figure()\n",
    "    plt.imshow(X[r].reshape(48,48), cmap='gray')\n",
    "    plt.xlabel(label_map[y_o[r]])"
   ]
  },
  {
   "cell_type": "code",
   "execution_count": 24,
   "id": "e49bf6e1",
   "metadata": {
    "execution": {
     "iopub.execute_input": "2024-12-01T06:10:32.310251Z",
     "iopub.status.busy": "2024-12-01T06:10:32.309712Z",
     "iopub.status.idle": "2024-12-01T06:10:32.313734Z",
     "shell.execute_reply": "2024-12-01T06:10:32.312966Z"
    },
    "papermill": {
     "duration": 0.015068,
     "end_time": "2024-12-01T06:10:32.315296",
     "exception": false,
     "start_time": "2024-12-01T06:10:32.300228",
     "status": "completed"
    },
    "tags": []
   },
   "outputs": [],
   "source": [
    "X = X.reshape(len(X), 48, 48, 1)"
   ]
  },
  {
   "cell_type": "code",
   "execution_count": 25,
   "id": "cad70d52",
   "metadata": {
    "execution": {
     "iopub.execute_input": "2024-12-01T06:10:32.333387Z",
     "iopub.status.busy": "2024-12-01T06:10:32.333093Z",
     "iopub.status.idle": "2024-12-01T06:10:32.338315Z",
     "shell.execute_reply": "2024-12-01T06:10:32.337442Z"
    },
    "papermill": {
     "duration": 0.016049,
     "end_time": "2024-12-01T06:10:32.339938",
     "exception": false,
     "start_time": "2024-12-01T06:10:32.323889",
     "status": "completed"
    },
    "tags": []
   },
   "outputs": [
    {
     "data": {
      "text/plain": [
       "(24006, 48, 48, 1)"
      ]
     },
     "execution_count": 25,
     "metadata": {},
     "output_type": "execute_result"
    }
   ],
   "source": [
    "X.shape"
   ]
  },
  {
   "cell_type": "code",
   "execution_count": 26,
   "id": "67a34afc",
   "metadata": {
    "execution": {
     "iopub.execute_input": "2024-12-01T06:10:32.358734Z",
     "iopub.status.busy": "2024-12-01T06:10:32.357907Z",
     "iopub.status.idle": "2024-12-01T06:10:44.045483Z",
     "shell.execute_reply": "2024-12-01T06:10:44.044735Z"
    },
    "papermill": {
     "duration": 11.699021,
     "end_time": "2024-12-01T06:10:44.047479",
     "exception": false,
     "start_time": "2024-12-01T06:10:32.348458",
     "status": "completed"
    },
    "tags": []
   },
   "outputs": [],
   "source": [
    "from keras.utils import to_categorical\n",
    "y_new = to_categorical(y_o, num_classes=6)"
   ]
  },
  {
   "cell_type": "code",
   "execution_count": 27,
   "id": "67df4b04",
   "metadata": {
    "execution": {
     "iopub.execute_input": "2024-12-01T06:10:44.066950Z",
     "iopub.status.busy": "2024-12-01T06:10:44.065990Z",
     "iopub.status.idle": "2024-12-01T06:10:44.074627Z",
     "shell.execute_reply": "2024-12-01T06:10:44.073525Z"
    },
    "papermill": {
     "duration": 0.020717,
     "end_time": "2024-12-01T06:10:44.077056",
     "exception": false,
     "start_time": "2024-12-01T06:10:44.056339",
     "status": "completed"
    },
    "tags": []
   },
   "outputs": [
    {
     "data": {
      "text/plain": [
       "(24006, (24006, 6))"
      ]
     },
     "execution_count": 27,
     "metadata": {},
     "output_type": "execute_result"
    }
   ],
   "source": [
    "len(y_o), y_new.shape"
   ]
  },
  {
   "cell_type": "code",
   "execution_count": 28,
   "id": "9ab60960",
   "metadata": {
    "execution": {
     "iopub.execute_input": "2024-12-01T06:10:44.106501Z",
     "iopub.status.busy": "2024-12-01T06:10:44.105319Z",
     "iopub.status.idle": "2024-12-01T06:10:44.113588Z",
     "shell.execute_reply": "2024-12-01T06:10:44.112324Z"
    },
    "papermill": {
     "duration": 0.02668,
     "end_time": "2024-12-01T06:10:44.116247",
     "exception": false,
     "start_time": "2024-12-01T06:10:44.089567",
     "status": "completed"
    },
    "tags": []
   },
   "outputs": [
    {
     "data": {
      "text/plain": [
       "(0, array([1., 0., 0., 0., 0., 0.]))"
      ]
     },
     "execution_count": 28,
     "metadata": {},
     "output_type": "execute_result"
    }
   ],
   "source": [
    "y_o[150], y_new[150]"
   ]
  },
  {
   "cell_type": "code",
   "execution_count": 29,
   "id": "7a95d48f",
   "metadata": {
    "execution": {
     "iopub.execute_input": "2024-12-01T06:10:44.146504Z",
     "iopub.status.busy": "2024-12-01T06:10:44.145625Z",
     "iopub.status.idle": "2024-12-01T06:10:44.151890Z",
     "shell.execute_reply": "2024-12-01T06:10:44.151070Z"
    },
    "papermill": {
     "duration": 0.026374,
     "end_time": "2024-12-01T06:10:44.153638",
     "exception": false,
     "start_time": "2024-12-01T06:10:44.127264",
     "status": "completed"
    },
    "tags": []
   },
   "outputs": [],
   "source": [
    "from keras.models import Sequential\n",
    "from keras.layers import Dense, Activation, Dropout, Flatten, Conv2D, MaxPooling2D, BatchNormalization\n",
    "from keras.metrics import categorical_accuracy"
   ]
  },
  {
   "cell_type": "code",
   "execution_count": 30,
   "id": "0b153bda",
   "metadata": {
    "execution": {
     "iopub.execute_input": "2024-12-01T06:10:44.172588Z",
     "iopub.status.busy": "2024-12-01T06:10:44.172253Z",
     "iopub.status.idle": "2024-12-01T06:10:54.098007Z",
     "shell.execute_reply": "2024-12-01T06:10:54.096274Z"
    },
    "papermill": {
     "duration": 9.939062,
     "end_time": "2024-12-01T06:10:54.101561",
     "exception": false,
     "start_time": "2024-12-01T06:10:44.162499",
     "status": "completed"
    },
    "tags": []
   },
   "outputs": [
    {
     "name": "stderr",
     "output_type": "stream",
     "text": [
      "/opt/conda/lib/python3.10/pty.py:89: RuntimeWarning: os.fork() was called. os.fork() is incompatible with multithreaded code, and JAX is multithreaded, so this will likely lead to a deadlock.\n",
      "  pid, fd = os.forkpty()\n"
     ]
    },
    {
     "name": "stdout",
     "output_type": "stream",
     "text": [
      "Requirement already satisfied: tensorflow in /opt/conda/lib/python3.10/site-packages (2.16.1)\r\n",
      "Requirement already satisfied: absl-py>=1.0.0 in /opt/conda/lib/python3.10/site-packages (from tensorflow) (1.4.0)\r\n",
      "Requirement already satisfied: astunparse>=1.6.0 in /opt/conda/lib/python3.10/site-packages (from tensorflow) (1.6.3)\r\n",
      "Requirement already satisfied: flatbuffers>=23.5.26 in /opt/conda/lib/python3.10/site-packages (from tensorflow) (24.3.25)\r\n",
      "Requirement already satisfied: gast!=0.5.0,!=0.5.1,!=0.5.2,>=0.2.1 in /opt/conda/lib/python3.10/site-packages (from tensorflow) (0.5.4)\r\n",
      "Requirement already satisfied: google-pasta>=0.1.1 in /opt/conda/lib/python3.10/site-packages (from tensorflow) (0.2.0)\r\n",
      "Requirement already satisfied: h5py>=3.10.0 in /opt/conda/lib/python3.10/site-packages (from tensorflow) (3.11.0)\r\n",
      "Requirement already satisfied: libclang>=13.0.0 in /opt/conda/lib/python3.10/site-packages (from tensorflow) (18.1.1)\r\n",
      "Requirement already satisfied: ml-dtypes~=0.3.1 in /opt/conda/lib/python3.10/site-packages (from tensorflow) (0.3.2)\r\n",
      "Requirement already satisfied: opt-einsum>=2.3.2 in /opt/conda/lib/python3.10/site-packages (from tensorflow) (3.3.0)\r\n",
      "Requirement already satisfied: packaging in /opt/conda/lib/python3.10/site-packages (from tensorflow) (21.3)\r\n",
      "Requirement already satisfied: protobuf!=4.21.0,!=4.21.1,!=4.21.2,!=4.21.3,!=4.21.4,!=4.21.5,<5.0.0dev,>=3.20.3 in /opt/conda/lib/python3.10/site-packages (from tensorflow) (3.20.3)\r\n",
      "Requirement already satisfied: requests<3,>=2.21.0 in /opt/conda/lib/python3.10/site-packages (from tensorflow) (2.32.3)\r\n",
      "Requirement already satisfied: setuptools in /opt/conda/lib/python3.10/site-packages (from tensorflow) (70.0.0)\r\n",
      "Requirement already satisfied: six>=1.12.0 in /opt/conda/lib/python3.10/site-packages (from tensorflow) (1.16.0)\r\n",
      "Requirement already satisfied: termcolor>=1.1.0 in /opt/conda/lib/python3.10/site-packages (from tensorflow) (2.4.0)\r\n",
      "Requirement already satisfied: typing-extensions>=3.6.6 in /opt/conda/lib/python3.10/site-packages (from tensorflow) (4.12.2)\r\n",
      "Requirement already satisfied: wrapt>=1.11.0 in /opt/conda/lib/python3.10/site-packages (from tensorflow) (1.16.0)\r\n",
      "Requirement already satisfied: grpcio<2.0,>=1.24.3 in /opt/conda/lib/python3.10/site-packages (from tensorflow) (1.62.2)\r\n",
      "Requirement already satisfied: tensorboard<2.17,>=2.16 in /opt/conda/lib/python3.10/site-packages (from tensorflow) (2.16.2)\r\n",
      "Requirement already satisfied: keras>=3.0.0 in /opt/conda/lib/python3.10/site-packages (from tensorflow) (3.3.3)\r\n",
      "Requirement already satisfied: tensorflow-io-gcs-filesystem>=0.23.1 in /opt/conda/lib/python3.10/site-packages (from tensorflow) (0.37.0)\r\n",
      "Requirement already satisfied: numpy<2.0.0,>=1.23.5 in /opt/conda/lib/python3.10/site-packages (from tensorflow) (1.26.4)\r\n",
      "Requirement already satisfied: wheel<1.0,>=0.23.0 in /opt/conda/lib/python3.10/site-packages (from astunparse>=1.6.0->tensorflow) (0.43.0)\r\n",
      "Requirement already satisfied: rich in /opt/conda/lib/python3.10/site-packages (from keras>=3.0.0->tensorflow) (13.7.1)\r\n",
      "Requirement already satisfied: namex in /opt/conda/lib/python3.10/site-packages (from keras>=3.0.0->tensorflow) (0.0.8)\r\n",
      "Requirement already satisfied: optree in /opt/conda/lib/python3.10/site-packages (from keras>=3.0.0->tensorflow) (0.11.0)\r\n",
      "Requirement already satisfied: charset-normalizer<4,>=2 in /opt/conda/lib/python3.10/site-packages (from requests<3,>=2.21.0->tensorflow) (3.3.2)\r\n",
      "Requirement already satisfied: idna<4,>=2.5 in /opt/conda/lib/python3.10/site-packages (from requests<3,>=2.21.0->tensorflow) (3.7)\r\n",
      "Requirement already satisfied: urllib3<3,>=1.21.1 in /opt/conda/lib/python3.10/site-packages (from requests<3,>=2.21.0->tensorflow) (1.26.18)\r\n",
      "Requirement already satisfied: certifi>=2017.4.17 in /opt/conda/lib/python3.10/site-packages (from requests<3,>=2.21.0->tensorflow) (2024.8.30)\r\n",
      "Requirement already satisfied: markdown>=2.6.8 in /opt/conda/lib/python3.10/site-packages (from tensorboard<2.17,>=2.16->tensorflow) (3.6)\r\n",
      "Requirement already satisfied: tensorboard-data-server<0.8.0,>=0.7.0 in /opt/conda/lib/python3.10/site-packages (from tensorboard<2.17,>=2.16->tensorflow) (0.7.2)\r\n",
      "Requirement already satisfied: werkzeug>=1.0.1 in /opt/conda/lib/python3.10/site-packages (from tensorboard<2.17,>=2.16->tensorflow) (3.0.4)\r\n",
      "Requirement already satisfied: pyparsing!=3.0.5,>=2.0.2 in /opt/conda/lib/python3.10/site-packages (from packaging->tensorflow) (3.1.2)\r\n",
      "Requirement already satisfied: MarkupSafe>=2.1.1 in /opt/conda/lib/python3.10/site-packages (from werkzeug>=1.0.1->tensorboard<2.17,>=2.16->tensorflow) (2.1.5)\r\n",
      "Requirement already satisfied: markdown-it-py>=2.2.0 in /opt/conda/lib/python3.10/site-packages (from rich->keras>=3.0.0->tensorflow) (3.0.0)\r\n",
      "Requirement already satisfied: pygments<3.0.0,>=2.13.0 in /opt/conda/lib/python3.10/site-packages (from rich->keras>=3.0.0->tensorflow) (2.18.0)\r\n",
      "Requirement already satisfied: mdurl~=0.1 in /opt/conda/lib/python3.10/site-packages (from markdown-it-py>=2.2.0->rich->keras>=3.0.0->tensorflow) (0.1.2)\r\n",
      "Note: you may need to restart the kernel to use updated packages.\n"
     ]
    }
   ],
   "source": [
    "pip install tensorflow\n"
   ]
  },
  {
   "cell_type": "code",
   "execution_count": 31,
   "id": "becd9e21",
   "metadata": {
    "execution": {
     "iopub.execute_input": "2024-12-01T06:10:54.133636Z",
     "iopub.status.busy": "2024-12-01T06:10:54.133264Z",
     "iopub.status.idle": "2024-12-01T06:10:55.094263Z",
     "shell.execute_reply": "2024-12-01T06:10:55.093523Z"
    },
    "papermill": {
     "duration": 0.979981,
     "end_time": "2024-12-01T06:10:55.096284",
     "exception": false,
     "start_time": "2024-12-01T06:10:54.116303",
     "status": "completed"
    },
    "tags": []
   },
   "outputs": [],
   "source": [
    "\n",
    "from keras.models import Sequential\n",
    "from keras.layers import Conv2D, MaxPooling2D, Flatten, Dense, BatchNormalization, Activation, Input\n",
    "\n",
    "model = Sequential()\n",
    "\n",
    "# Define input explicitly using Input layer\n",
    "model.add(Input(shape=(48, 48, 1)))\n",
    "\n",
    "model.add(Conv2D(64, (5, 5), activation='relu', padding='same'))\n",
    "model.add(Conv2D(64, (5, 5), padding='same'))\n",
    "model.add(BatchNormalization())\n",
    "model.add(Activation('relu'))\n",
    "model.add(MaxPooling2D(pool_size=(2, 2)))\n",
    "\n",
    "model.add(Conv2D(128, (5, 5), activation='relu', padding='same'))\n",
    "model.add(Conv2D(128, (5, 5), padding='same'))\n",
    "model.add(BatchNormalization())\n",
    "model.add(Activation('relu'))\n",
    "model.add(MaxPooling2D(pool_size=(2, 2)))\n",
    "\n",
    "model.add(Conv2D(256, (3, 3), activation='relu', padding='same'))\n",
    "model.add(Conv2D(256, (3, 3), activation='relu', padding='same'))\n",
    "model.add(BatchNormalization())\n",
    "model.add(MaxPooling2D(pool_size=(2, 2)))\n",
    "\n",
    "# Fully connected layer\n",
    "model.add(Flatten())\n",
    "model.add(Dense(6, activation='softmax'))\n",
    "\n",
    "# Compile the model\n",
    "model.compile(loss='categorical_crossentropy', metrics=['accuracy'], optimizer='adam')\n"
   ]
  },
  {
   "cell_type": "code",
   "execution_count": 32,
   "id": "3636149f",
   "metadata": {
    "execution": {
     "iopub.execute_input": "2024-12-01T06:10:55.117236Z",
     "iopub.status.busy": "2024-12-01T06:10:55.116857Z",
     "iopub.status.idle": "2024-12-01T06:10:55.122985Z",
     "shell.execute_reply": "2024-12-01T06:10:55.121946Z"
    },
    "papermill": {
     "duration": 0.018597,
     "end_time": "2024-12-01T06:10:55.125264",
     "exception": false,
     "start_time": "2024-12-01T06:10:55.106667",
     "status": "completed"
    },
    "tags": []
   },
   "outputs": [
    {
     "name": "stdout",
     "output_type": "stream",
     "text": [
      "GPUs Available:  [PhysicalDevice(name='/physical_device:GPU:0', device_type='GPU')]\n"
     ]
    }
   ],
   "source": [
    "import os\n",
    "import absl.logging\n",
    "os.environ['TF_CPP_MIN_LOG_LEVEL'] = '2'  # Suppress TensorFlow INFO and WARNING\n",
    "absl.logging.set_verbosity(absl.logging.ERROR)  # Suppress absl INFO logs\n",
    "\n",
    "import tensorflow as tf\n",
    "\n",
    "# Optionally restrict GPU usage\n",
    "# tf.config.set_visible_devices([], 'GPU')\n",
    "\n",
    "# Check GPU detection\n",
    "print(\"GPUs Available: \", tf.config.list_physical_devices('GPU'))\n"
   ]
  },
  {
   "cell_type": "code",
   "execution_count": 33,
   "id": "2d9a3cec",
   "metadata": {
    "execution": {
     "iopub.execute_input": "2024-12-01T06:10:55.146381Z",
     "iopub.status.busy": "2024-12-01T06:10:55.146005Z",
     "iopub.status.idle": "2024-12-01T06:14:10.429819Z",
     "shell.execute_reply": "2024-12-01T06:14:10.428826Z"
    },
    "papermill": {
     "duration": 195.296391,
     "end_time": "2024-12-01T06:14:10.431816",
     "exception": false,
     "start_time": "2024-12-01T06:10:55.135425",
     "status": "completed"
    },
    "tags": []
   },
   "outputs": [
    {
     "name": "stdout",
     "output_type": "stream",
     "text": [
      "Epoch 1/22\n"
     ]
    },
    {
     "name": "stderr",
     "output_type": "stream",
     "text": [
      "WARNING: All log messages before absl::InitializeLog() is called are written to STDERR\n",
      "I0000 00:00:1733033458.257824      71 service.cc:145] XLA service 0x7ce3f80073a0 initialized for platform CUDA (this does not guarantee that XLA will be used). Devices:\n",
      "I0000 00:00:1733033458.257878      71 service.cc:153]   StreamExecutor device (0): Tesla P100-PCIE-16GB, Compute Capability 6.0\n"
     ]
    },
    {
     "name": "stdout",
     "output_type": "stream",
     "text": [
      "\u001b[1m  7/301\u001b[0m \u001b[37m━━━━━━━━━━━━━━━━━━━━\u001b[0m \u001b[1m7s\u001b[0m 26ms/step - accuracy: 0.1745 - loss: 7.3716"
     ]
    },
    {
     "name": "stderr",
     "output_type": "stream",
     "text": [
      "I0000 00:00:1733033463.878625      71 device_compiler.h:188] Compiled cluster using XLA!  This line is logged at most once for the lifetime of the process.\n"
     ]
    },
    {
     "name": "stdout",
     "output_type": "stream",
     "text": [
      "\u001b[1m301/301\u001b[0m \u001b[32m━━━━━━━━━━━━━━━━━━━━\u001b[0m\u001b[37m\u001b[0m \u001b[1m20s\u001b[0m 40ms/step - accuracy: 0.2197 - loss: 2.7470 - val_accuracy: 0.0985 - val_loss: 2.6677\n",
      "Epoch 2/22\n",
      "\u001b[1m301/301\u001b[0m \u001b[32m━━━━━━━━━━━━━━━━━━━━\u001b[0m\u001b[37m\u001b[0m \u001b[1m8s\u001b[0m 28ms/step - accuracy: 0.2788 - loss: 1.9353 - val_accuracy: 0.2397 - val_loss: 2.2015\n",
      "Epoch 3/22\n",
      "\u001b[1m301/301\u001b[0m \u001b[32m━━━━━━━━━━━━━━━━━━━━\u001b[0m\u001b[37m\u001b[0m \u001b[1m8s\u001b[0m 28ms/step - accuracy: 0.3812 - loss: 1.5950 - val_accuracy: 0.1764 - val_loss: 2.7034\n",
      "Epoch 4/22\n",
      "\u001b[1m301/301\u001b[0m \u001b[32m━━━━━━━━━━━━━━━━━━━━\u001b[0m\u001b[37m\u001b[0m \u001b[1m8s\u001b[0m 27ms/step - accuracy: 0.4277 - loss: 1.4621 - val_accuracy: 0.2849 - val_loss: 2.0669\n",
      "Epoch 5/22\n",
      "\u001b[1m301/301\u001b[0m \u001b[32m━━━━━━━━━━━━━━━━━━━━\u001b[0m\u001b[37m\u001b[0m \u001b[1m8s\u001b[0m 27ms/step - accuracy: 0.4687 - loss: 1.3747 - val_accuracy: 0.3228 - val_loss: 1.7220\n",
      "Epoch 6/22\n",
      "\u001b[1m301/301\u001b[0m \u001b[32m━━━━━━━━━━━━━━━━━━━━\u001b[0m\u001b[37m\u001b[0m \u001b[1m8s\u001b[0m 28ms/step - accuracy: 0.5038 - loss: 1.2752 - val_accuracy: 0.4504 - val_loss: 1.3920\n",
      "Epoch 7/22\n",
      "\u001b[1m301/301\u001b[0m \u001b[32m━━━━━━━━━━━━━━━━━━━━\u001b[0m\u001b[37m\u001b[0m \u001b[1m8s\u001b[0m 27ms/step - accuracy: 0.5329 - loss: 1.2064 - val_accuracy: 0.4840 - val_loss: 1.4025\n",
      "Epoch 8/22\n",
      "\u001b[1m301/301\u001b[0m \u001b[32m━━━━━━━━━━━━━━━━━━━━\u001b[0m\u001b[37m\u001b[0m \u001b[1m8s\u001b[0m 27ms/step - accuracy: 0.5667 - loss: 1.1224 - val_accuracy: 0.4952 - val_loss: 1.3680\n",
      "Epoch 9/22\n",
      "\u001b[1m301/301\u001b[0m \u001b[32m━━━━━━━━━━━━━━━━━━━━\u001b[0m\u001b[37m\u001b[0m \u001b[1m8s\u001b[0m 28ms/step - accuracy: 0.5971 - loss: 1.0549 - val_accuracy: 0.4446 - val_loss: 1.4941\n",
      "Epoch 10/22\n",
      "\u001b[1m301/301\u001b[0m \u001b[32m━━━━━━━━━━━━━━━━━━━━\u001b[0m\u001b[37m\u001b[0m \u001b[1m8s\u001b[0m 28ms/step - accuracy: 0.6285 - loss: 0.9738 - val_accuracy: 0.4577 - val_loss: 1.4944\n",
      "Epoch 11/22\n",
      "\u001b[1m301/301\u001b[0m \u001b[32m━━━━━━━━━━━━━━━━━━━━\u001b[0m\u001b[37m\u001b[0m \u001b[1m8s\u001b[0m 28ms/step - accuracy: 0.6613 - loss: 0.9044 - val_accuracy: 0.5054 - val_loss: 1.3946\n",
      "Epoch 12/22\n",
      "\u001b[1m301/301\u001b[0m \u001b[32m━━━━━━━━━━━━━━━━━━━━\u001b[0m\u001b[37m\u001b[0m \u001b[1m8s\u001b[0m 27ms/step - accuracy: 0.6937 - loss: 0.8225 - val_accuracy: 0.4661 - val_loss: 1.6564\n",
      "Epoch 13/22\n",
      "\u001b[1m301/301\u001b[0m \u001b[32m━━━━━━━━━━━━━━━━━━━━\u001b[0m\u001b[37m\u001b[0m \u001b[1m8s\u001b[0m 28ms/step - accuracy: 0.7399 - loss: 0.7132 - val_accuracy: 0.6027 - val_loss: 1.1654\n",
      "Epoch 14/22\n",
      "\u001b[1m301/301\u001b[0m \u001b[32m━━━━━━━━━━━━━━━━━━━━\u001b[0m\u001b[37m\u001b[0m \u001b[1m8s\u001b[0m 27ms/step - accuracy: 0.7879 - loss: 0.5823 - val_accuracy: 0.5579 - val_loss: 1.5318\n",
      "Epoch 15/22\n",
      "\u001b[1m301/301\u001b[0m \u001b[32m━━━━━━━━━━━━━━━━━━━━\u001b[0m\u001b[37m\u001b[0m \u001b[1m8s\u001b[0m 27ms/step - accuracy: 0.8225 - loss: 0.4938 - val_accuracy: 0.4810 - val_loss: 1.9477\n",
      "Epoch 16/22\n",
      "\u001b[1m301/301\u001b[0m \u001b[32m━━━━━━━━━━━━━━━━━━━━\u001b[0m\u001b[37m\u001b[0m \u001b[1m8s\u001b[0m 27ms/step - accuracy: 0.8569 - loss: 0.3914 - val_accuracy: 0.4690 - val_loss: 2.4063\n",
      "Epoch 17/22\n",
      "\u001b[1m301/301\u001b[0m \u001b[32m━━━━━━━━━━━━━━━━━━━━\u001b[0m\u001b[37m\u001b[0m \u001b[1m8s\u001b[0m 28ms/step - accuracy: 0.9080 - loss: 0.2640 - val_accuracy: 0.5537 - val_loss: 1.8462\n",
      "Epoch 18/22\n",
      "\u001b[1m301/301\u001b[0m \u001b[32m━━━━━━━━━━━━━━━━━━━━\u001b[0m\u001b[37m\u001b[0m \u001b[1m8s\u001b[0m 28ms/step - accuracy: 0.8859 - loss: 0.3290 - val_accuracy: 0.5144 - val_loss: 2.1850\n",
      "Epoch 19/22\n",
      "\u001b[1m301/301\u001b[0m \u001b[32m━━━━━━━━━━━━━━━━━━━━\u001b[0m\u001b[37m\u001b[0m \u001b[1m8s\u001b[0m 27ms/step - accuracy: 0.9524 - loss: 0.1473 - val_accuracy: 0.4692 - val_loss: 3.0467\n",
      "Epoch 20/22\n",
      "\u001b[1m301/301\u001b[0m \u001b[32m━━━━━━━━━━━━━━━━━━━━\u001b[0m\u001b[37m\u001b[0m \u001b[1m8s\u001b[0m 28ms/step - accuracy: 0.9668 - loss: 0.1193 - val_accuracy: 0.5196 - val_loss: 2.8283\n",
      "Epoch 21/22\n",
      "\u001b[1m301/301\u001b[0m \u001b[32m━━━━━━━━━━━━━━━━━━━━\u001b[0m\u001b[37m\u001b[0m \u001b[1m8s\u001b[0m 28ms/step - accuracy: 0.9698 - loss: 0.0994 - val_accuracy: 0.5602 - val_loss: 2.4382\n",
      "Epoch 22/22\n",
      "\u001b[1m301/301\u001b[0m \u001b[32m━━━━━━━━━━━━━━━━━━━━\u001b[0m\u001b[37m\u001b[0m \u001b[1m8s\u001b[0m 27ms/step - accuracy: 0.9635 - loss: 0.1213 - val_accuracy: 0.5033 - val_loss: 3.1980\n"
     ]
    },
    {
     "data": {
      "text/plain": [
       "<keras.src.callbacks.history.History at 0x7ce471197c10>"
      ]
     },
     "execution_count": 33,
     "metadata": {},
     "output_type": "execute_result"
    }
   ],
   "source": [
    "model.fit(X, y_new, epochs=22, batch_size=64, shuffle=True, validation_split=0.2)"
   ]
  },
  {
   "cell_type": "code",
   "execution_count": 34,
   "id": "879a1c00",
   "metadata": {
    "execution": {
     "iopub.execute_input": "2024-12-01T06:14:10.684342Z",
     "iopub.status.busy": "2024-12-01T06:14:10.683489Z",
     "iopub.status.idle": "2024-12-01T06:14:10.783159Z",
     "shell.execute_reply": "2024-12-01T06:14:10.782192Z"
    },
    "papermill": {
     "duration": 0.227952,
     "end_time": "2024-12-01T06:14:10.785226",
     "exception": false,
     "start_time": "2024-12-01T06:14:10.557274",
     "status": "completed"
    },
    "tags": []
   },
   "outputs": [],
   "source": [
    "model.save('model.h5')"
   ]
  },
  {
   "cell_type": "code",
   "execution_count": 35,
   "id": "ebf362b6",
   "metadata": {
    "execution": {
     "iopub.execute_input": "2024-12-01T06:14:11.032367Z",
     "iopub.status.busy": "2024-12-01T06:14:11.031489Z",
     "iopub.status.idle": "2024-12-01T06:14:11.035486Z",
     "shell.execute_reply": "2024-12-01T06:14:11.034770Z"
    },
    "papermill": {
     "duration": 0.129434,
     "end_time": "2024-12-01T06:14:11.037105",
     "exception": false,
     "start_time": "2024-12-01T06:14:10.907671",
     "status": "completed"
    },
    "tags": []
   },
   "outputs": [],
   "source": [
    "import cv2"
   ]
  },
  {
   "cell_type": "code",
   "execution_count": 36,
   "id": "e6642e2d",
   "metadata": {
    "execution": {
     "iopub.execute_input": "2024-12-01T06:14:11.285111Z",
     "iopub.status.busy": "2024-12-01T06:14:11.284745Z",
     "iopub.status.idle": "2024-12-01T06:14:11.315342Z",
     "shell.execute_reply": "2024-12-01T06:14:11.314598Z"
    },
    "papermill": {
     "duration": 0.157723,
     "end_time": "2024-12-01T06:14:11.317387",
     "exception": false,
     "start_time": "2024-12-01T06:14:11.159664",
     "status": "completed"
    },
    "tags": []
   },
   "outputs": [],
   "source": [
    "test_img = cv2.imread('/kaggle/input/fear-test/fear test.jpg', 0)"
   ]
  },
  {
   "cell_type": "code",
   "execution_count": 37,
   "id": "02ebe008",
   "metadata": {
    "execution": {
     "iopub.execute_input": "2024-12-01T06:14:11.563557Z",
     "iopub.status.busy": "2024-12-01T06:14:11.563224Z",
     "iopub.status.idle": "2024-12-01T06:14:11.569120Z",
     "shell.execute_reply": "2024-12-01T06:14:11.568240Z"
    },
    "papermill": {
     "duration": 0.130546,
     "end_time": "2024-12-01T06:14:11.570628",
     "exception": false,
     "start_time": "2024-12-01T06:14:11.440082",
     "status": "completed"
    },
    "tags": []
   },
   "outputs": [
    {
     "data": {
      "text/plain": [
       "(168, 300)"
      ]
     },
     "execution_count": 37,
     "metadata": {},
     "output_type": "execute_result"
    }
   ],
   "source": [
    "test_img.shape"
   ]
  },
  {
   "cell_type": "code",
   "execution_count": 38,
   "id": "63f257c2",
   "metadata": {
    "execution": {
     "iopub.execute_input": "2024-12-01T06:14:11.870704Z",
     "iopub.status.busy": "2024-12-01T06:14:11.870331Z",
     "iopub.status.idle": "2024-12-01T06:14:11.881488Z",
     "shell.execute_reply": "2024-12-01T06:14:11.880626Z"
    },
    "papermill": {
     "duration": 0.18837,
     "end_time": "2024-12-01T06:14:11.883077",
     "exception": false,
     "start_time": "2024-12-01T06:14:11.694707",
     "status": "completed"
    },
    "tags": []
   },
   "outputs": [
    {
     "data": {
      "text/plain": [
       "(48, 48)"
      ]
     },
     "execution_count": 38,
     "metadata": {},
     "output_type": "execute_result"
    }
   ],
   "source": [
    "test_img = cv2.resize(test_img,(48,48))\n",
    "test_img.shape"
   ]
  },
  {
   "cell_type": "code",
   "execution_count": 39,
   "id": "4bb73606",
   "metadata": {
    "execution": {
     "iopub.execute_input": "2024-12-01T06:14:12.130348Z",
     "iopub.status.busy": "2024-12-01T06:14:12.129597Z",
     "iopub.status.idle": "2024-12-01T06:14:12.133667Z",
     "shell.execute_reply": "2024-12-01T06:14:12.132881Z"
    },
    "papermill": {
     "duration": 0.130525,
     "end_time": "2024-12-01T06:14:12.135419",
     "exception": false,
     "start_time": "2024-12-01T06:14:12.004894",
     "status": "completed"
    },
    "tags": []
   },
   "outputs": [],
   "source": [
    "test_img = test_img.reshape(1,48,48,1)"
   ]
  },
  {
   "cell_type": "code",
   "execution_count": 40,
   "id": "85bd30c1",
   "metadata": {
    "execution": {
     "iopub.execute_input": "2024-12-01T06:14:12.385218Z",
     "iopub.status.busy": "2024-12-01T06:14:12.384320Z",
     "iopub.status.idle": "2024-12-01T06:14:13.100665Z",
     "shell.execute_reply": "2024-12-01T06:14:13.099844Z"
    },
    "papermill": {
     "duration": 0.844511,
     "end_time": "2024-12-01T06:14:13.102307",
     "exception": false,
     "start_time": "2024-12-01T06:14:12.257796",
     "status": "completed"
    },
    "tags": []
   },
   "outputs": [
    {
     "name": "stdout",
     "output_type": "stream",
     "text": [
      "\u001b[1m1/1\u001b[0m \u001b[32m━━━━━━━━━━━━━━━━━━━━\u001b[0m\u001b[37m\u001b[0m \u001b[1m1s\u001b[0m 669ms/step\n"
     ]
    },
    {
     "data": {
      "text/plain": [
       "array([[0., 1., 0., 0., 0., 0.]], dtype=float32)"
      ]
     },
     "execution_count": 40,
     "metadata": {},
     "output_type": "execute_result"
    }
   ],
   "source": [
    "model.predict(test_img)"
   ]
  },
  {
   "cell_type": "code",
   "execution_count": 41,
   "id": "a6ce0f5d",
   "metadata": {
    "execution": {
     "iopub.execute_input": "2024-12-01T06:14:13.358391Z",
     "iopub.status.busy": "2024-12-01T06:14:13.357999Z",
     "iopub.status.idle": "2024-12-01T06:14:13.361942Z",
     "shell.execute_reply": "2024-12-01T06:14:13.361095Z"
    },
    "papermill": {
     "duration": 0.130358,
     "end_time": "2024-12-01T06:14:13.363656",
     "exception": false,
     "start_time": "2024-12-01T06:14:13.233298",
     "status": "completed"
    },
    "tags": []
   },
   "outputs": [],
   "source": [
    "#label_map =['Anger','Neutral','Fear','Happy','Sad','Surprise']"
   ]
  }
 ],
 "metadata": {
  "kaggle": {
   "accelerator": "gpu",
   "dataSources": [
    {
     "datasetId": 31050,
     "sourceId": 39603,
     "sourceType": "datasetVersion"
    },
    {
     "datasetId": 6202011,
     "sourceId": 10063772,
     "sourceType": "datasetVersion"
    },
    {
     "datasetId": 6202124,
     "sourceId": 10063935,
     "sourceType": "datasetVersion"
    },
    {
     "datasetId": 6202138,
     "sourceId": 10063957,
     "sourceType": "datasetVersion"
    },
    {
     "sourceId": 210408042,
     "sourceType": "kernelVersion"
    }
   ],
   "isGpuEnabled": true,
   "isInternetEnabled": true,
   "language": "python",
   "sourceType": "notebook"
  },
  "kernelspec": {
   "display_name": "Python 3",
   "language": "python",
   "name": "python3"
  },
  "language_info": {
   "codemirror_mode": {
    "name": "ipython",
    "version": 3
   },
   "file_extension": ".py",
   "mimetype": "text/x-python",
   "name": "python",
   "nbconvert_exporter": "python",
   "pygments_lexer": "ipython3",
   "version": "3.10.14"
  },
  "papermill": {
   "default_parameters": {},
   "duration": 260.826549,
   "end_time": "2024-12-01T06:14:16.396793",
   "environment_variables": {},
   "exception": null,
   "input_path": "__notebook__.ipynb",
   "output_path": "__notebook__.ipynb",
   "parameters": {},
   "start_time": "2024-12-01T06:09:55.570244",
   "version": "2.6.0"
  }
 },
 "nbformat": 4,
 "nbformat_minor": 5
}
